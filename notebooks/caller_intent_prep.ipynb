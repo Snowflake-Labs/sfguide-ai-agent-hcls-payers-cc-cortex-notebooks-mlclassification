{
 "cells": [
  {
   "cell_type": "markdown",
   "id": "a05b4622-f0e0-4a0d-8be3-de1874797f15",
   "metadata": {
    "collapsed": false,
    "name": "intro_md",
    "resultHeight": 381
   },
   "source": [
    "# Caller Intent Prediction\n",
    "\n",
    "Within this notebook, we will predict the intent of a caller using historical data. This will allow Call Center Agents to be better prepared when faced with an incoming call.\n",
    "\n",
    "We will be using the [Classification function from the suite of Snowflake's ML Functions](https://docs.snowflake.com/en/user-guide/ml-functions/classification) to build our model.\n",
    "> - _Classification involves creating a classification model object, passing in a reference to the training data. The model is fitted to the provided training data. You then use the resulting schema-level classification model object to classify new data points and to understand the model’s accuracy through its evaluation APIs._\n",
    "> - _The classification function is powered by a gradient boosting machine. For binary classification, the model is trained using an area-under-the-curve loss function. For multi-class classification, the model is trained using a logistic loss function._"
   ]
  },
  {
   "cell_type": "code",
   "execution_count": null,
   "id": "fd2a720b-fac5-4163-852f-bb2bde370a95",
   "metadata": {
    "codeCollapsed": false,
    "collapsed": false,
    "language": "python",
    "name": "imports",
    "resultHeight": 44
   },
   "outputs": [],
   "source": [
    "import warnings\n",
    "warnings.filterwarnings(\"ignore\")\n",
    "\n",
    "from snowflake.snowpark.context import get_active_session\n",
    "\n",
    "session = get_active_session()\n",
    "\n",
    "# Add a query tag to the session. This helps with debugging and performance monitoring.\n",
    "session.query_tag = {\"origin\":\"sf_sit\", \n",
    "                     \"name\":\"payer_call_center_assistant_v2\", \n",
    "                     \"version\":{\"major\":1, \"minor\":0},\n",
    "                     \"attributes\":{\"is_quickstart\":1, \"source\":\"notebook\"}}\n",
    "\n",
    "# Set session context \n",
    "session.use_role(\"SYSADMIN\")\n",
    "\n",
    "# Print the current role, warehouse, and database/schema\n",
    "print(f\"role: {session.get_current_role()} | WH: {session.get_current_warehouse()} | DB.SCHEMA: {session.get_fully_qualified_current_schema()}\")"
   ]
  },
  {
   "cell_type": "markdown",
   "id": "bd741523-3d9b-457e-9e47-6d9121b6f30a",
   "metadata": {
    "collapsed": false,
    "name": "classification_view_md",
    "resultHeight": 41
   },
   "source": [
    "We will first create a view to store caller intent predictions."
   ]
  },
  {
   "cell_type": "code",
   "execution_count": null,
   "id": "a888bbed-d5ef-4ff7-8dcf-7cf6b908ef5c",
   "metadata": {
    "codeCollapsed": false,
    "collapsed": false,
    "language": "sql",
    "name": "classification_view",
    "resultHeight": 112
   },
   "outputs": [],
   "source": [
    "CREATE OR REPLACE VIEW CALLER_INTENT_CLASSIFICATION_VIEW AS\n",
    "    SELECT \n",
    "        RECENT_ENROLLMENT_EVENT_IND,\n",
    "        PCP_CHANGE_IND, \n",
    "        ACTIVE_CM_PROGRAM_IND,\n",
    "        CHRONIC_CONDITION_IND,\n",
    "        ACTIVE_GRIEVANCE_IND,\n",
    "        ACTIVE_CLAIM_IND,\n",
    "        POTENTIAL_CALLER_INTENT_CATEGORY\n",
    "FROM CALLER_INTENT_TRAIN_DATASET;"
   ]
  },
  {
   "cell_type": "markdown",
   "id": "35d5a718-533e-4288-aaad-bc6146eee523",
   "metadata": {
    "collapsed": false,
    "name": "classification_func_md",
    "resultHeight": 41
   },
   "source": [
    "Now, we will create an [ML Classification](https://docs.snowflake.com/en/user-guide/ml-functions/classification) function."
   ]
  },
  {
   "cell_type": "code",
   "execution_count": null,
   "id": "05d652c6-267d-4554-a293-c586f404da75",
   "metadata": {
    "codeCollapsed": false,
    "collapsed": false,
    "language": "sql",
    "name": "create_classification_func",
    "resultHeight": 112
   },
   "outputs": [],
   "source": [
    "CREATE OR REPLACE SNOWFLAKE.ML.CLASSIFICATION CALLER_INTENT(\n",
    "    INPUT_DATA => SYSTEM$REFERENCE('view', 'CALLER_INTENT_CLASSIFICATION_VIEW'),\n",
    "    TARGET_COLNAME => 'POTENTIAL_CALLER_INTENT_CATEGORY'\n",
    ");"
   ]
  },
  {
   "cell_type": "markdown",
   "id": "4642397a-b7c0-44e0-82e5-d925c32d3b5a",
   "metadata": {
    "collapsed": false,
    "name": "preds_table_md",
    "resultHeight": 41
   },
   "source": [
    "We will apply our ML model's prediction function on our prediction data."
   ]
  },
  {
   "cell_type": "code",
   "execution_count": null,
   "id": "10445ce7-1ef7-436d-9c79-c11edd2dd522",
   "metadata": {
    "collapsed": false,
    "language": "sql",
    "name": "create_preds_table",
    "resultHeight": 439
   },
   "outputs": [],
   "source": [
    "CREATE OR REPLACE TABLE CALLER_INTENT_PREDICTIONS AS\n",
    "SELECT *, CALLER_INTENT!PREDICT(\n",
    "    INPUT_DATA => {*})\n",
    "    as predictions from CALLER_INTENT_PREDICT_DATASET;\n",
    "SELECT * FROM CALLER_INTENT_PREDICTIONS;"
   ]
  },
  {
   "cell_type": "markdown",
   "id": "919b5362-e4c8-4392-b506-2c4add5890a1",
   "metadata": {
    "collapsed": false,
    "name": "pred_view_md",
    "resultHeight": 41
   },
   "source": [
    "We now create a view to join our member data with our predictions."
   ]
  },
  {
   "cell_type": "code",
   "execution_count": null,
   "id": "6a4dce1c-17f0-4c0d-98de-67112f4b514c",
   "metadata": {
    "codeCollapsed": false,
    "collapsed": false,
    "language": "sql",
    "name": "create_pred_view",
    "resultHeight": 112
   },
   "outputs": [],
   "source": [
    "CREATE OR REPLACE VIEW CALL_CENTER_MEMBER_DENORMALIZED_WITH_INTENT\n",
    "AS\n",
    "SELECT\n",
    "    A.*,\n",
    "    B.predictions:class::STRING AS POTENTIAL_CALLER_INTENT\n",
    "FROM \n",
    "CALL_CENTER_MEMBER_DENORMALIZED A\n",
    "LEFT OUTER JOIN \n",
    "CALLER_INTENT_PREDICTIONS B\n",
    "ON A.MEMBER_ID = B.MEMBER_ID;"
   ]
  },
  {
   "cell_type": "markdown",
   "id": "93a8afdd-3e8c-4d25-aac9-5bdb86a27db8",
   "metadata": {
    "collapsed": false,
    "name": "update_sample_member_md",
    "resultHeight": 41
   },
   "source": [
    "We will now cleanse some data for our sample members who will be part of the Streamlit demo."
   ]
  },
  {
   "cell_type": "code",
   "execution_count": null,
   "id": "3f78a793-0dfc-4517-b8b8-7b8847d63bde",
   "metadata": {
    "codeCollapsed": false,
    "collapsed": false,
    "language": "sql",
    "name": "update_sample_member",
    "resultHeight": 112
   },
   "outputs": [],
   "source": [
    "UPDATE CALL_RECORDINGS_TRANSCRIPT_TABLE \n",
    "SET TRANSCRIPT = replace(TRANSCRIPT, '159-568-6880','159568380')\n",
    "WHERE TRANSCRIPT ILIKE '%Tracy%Smith%';;"
   ]
  },
  {
   "cell_type": "code",
   "execution_count": null,
   "id": "87c51bc2-a86e-4ac7-93cf-36b583dbf520",
   "metadata": {
    "language": "sql",
    "name": "update_sample_member_2",
    "resultHeight": 112
   },
   "outputs": [],
   "source": [
    "UPDATE CALL_CENTER_MEMBER_DENORMALIZED\n",
    "SET CLAIM_PROVIDER = 'Howe Group'\n",
    "WHERE GRIEVANCE_STATUS = 'Pending'\n",
    "AND GRIEVANCE_TYPE = 'Inadequate Care'\n",
    "AND CLAIM_PROVIDER in ('Thornton Group','Kent Group','Perez-Martinez');"
   ]
  },
  {
   "cell_type": "markdown",
   "id": "47d8d9a7-7f43-4a43-ab31-8e72469dbaca",
   "metadata": {
    "collapsed": false,
    "name": "conclusion",
    "resultHeight": 69
   },
   "source": [
    "### :tada: We now have `Caller Intent` predictions, which are ready to be used by the Streamlit App!"
   ]
  }
 ],
 "metadata": {
  "kernelspec": {
   "display_name": "Python 3",
   "language": "python",
   "name": "python3"
  },
  "language_info": {
   "codemirror_mode": {
    "name": "ipython",
    "version": 3
   },
   "file_extension": ".py",
   "mimetype": "text/x-python",
   "name": "python",
   "nbconvert_exporter": "python",
   "pygments_lexer": "ipython3",
   "version": "3.8.18"
  }
 },
 "nbformat": 4,
 "nbformat_minor": 5
}
